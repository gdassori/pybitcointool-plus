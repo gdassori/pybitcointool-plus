{
 "metadata": {
  "name": "",
  "signature": "sha256:638136806b0937d583550442718af925c8d1c7232599596d038b93f6ef7de1a2"
 },
 "nbformat": 3,
 "nbformat_minor": 0,
 "worksheets": [
  {
   "cells": [
    {
     "cell_type": "code",
     "collapsed": false,
     "input": [
      "from bitcoin import api_facade\n",
      "from bitcoin.wallet import Wallet\n",
      "from bitcoin import *\n"
     ],
     "language": "python",
     "metadata": {},
     "outputs": [],
     "prompt_number": 1
    },
    {
     "cell_type": "code",
     "collapsed": false,
     "input": [
      "facade = api_facade.ApiFacade()"
     ],
     "language": "python",
     "metadata": {},
     "outputs": [],
     "prompt_number": 2
    },
    {
     "cell_type": "code",
     "collapsed": false,
     "input": [
      "facade.get_balance('1MhxMbEh19LeeiSbEzBhqWFz6TcmiiYojq')"
     ],
     "language": "python",
     "metadata": {},
     "outputs": [
      {
       "metadata": {},
       "output_type": "pyout",
       "prompt_number": 3,
       "text": [
        "0.005"
       ]
      }
     ],
     "prompt_number": 3
    },
    {
     "cell_type": "code",
     "collapsed": false,
     "input": [
      "wt = Wallet()\n"
     ],
     "language": "python",
     "metadata": {},
     "outputs": [],
     "prompt_number": 4
    },
    {
     "cell_type": "code",
     "collapsed": false,
     "input": [
      "wt.createWallet() #\u4e82\u6578\u7522\u751f \u79c1\u9470\n",
      "\n",
      "wt.address"
     ],
     "language": "python",
     "metadata": {},
     "outputs": [
      {
       "metadata": {},
       "output_type": "pyout",
       "prompt_number": 5,
       "text": [
        "'1HTR57N18TH2RNPRfxjnkjdybK82sc9QRg'"
       ]
      }
     ],
     "prompt_number": 5
    },
    {
     "cell_type": "code",
     "collapsed": false,
     "input": [
      "wt.get_balance()"
     ],
     "language": "python",
     "metadata": {},
     "outputs": [
      {
       "metadata": {},
       "output_type": "pyout",
       "prompt_number": 14,
       "text": [
        "0"
       ]
      }
     ],
     "prompt_number": 14
    },
    {
     "cell_type": "code",
     "collapsed": false,
     "input": [
      "unspent(wt.address)"
     ],
     "language": "python",
     "metadata": {},
     "outputs": [
      {
       "metadata": {},
       "output_type": "pyout",
       "prompt_number": 15,
       "text": [
        "[]"
       ]
      }
     ],
     "prompt_number": 15
    },
    {
     "cell_type": "code",
     "collapsed": false,
     "input": [
      "facade.get_tx_confirmation('fcc66b7306d8618d67ce7ededdcdbc2b043200773378fb71e50ee1b744aa5da4')"
     ],
     "language": "python",
     "metadata": {},
     "outputs": [
      {
       "metadata": {},
       "output_type": "pyout",
       "prompt_number": 10,
       "text": [
        "141"
       ]
      }
     ],
     "prompt_number": 10
    },
    {
     "cell_type": "code",
     "collapsed": false,
     "input": [
      "history('1HTR57N18TH2RNPRfxjnkjdybK82sc9QRg')"
     ],
     "language": "python",
     "metadata": {},
     "outputs": [
      {
       "metadata": {},
       "output_type": "pyout",
       "prompt_number": 11,
       "text": [
        "[{'address': u'1HTR57N18TH2RNPRfxjnkjdybK82sc9QRg',\n",
        "  'block_height': None,\n",
        "  'output': u'7637079817d910b995f9bb25df55f35e3a93131d0a1608c393712425141ea989:0',\n",
        "  'time': 1423188422,\n",
        "  'value': 20000}]"
       ]
      }
     ],
     "prompt_number": 11
    },
    {
     "cell_type": "code",
     "collapsed": false,
     "input": [
      "wt.sendBTC('1MhxMbEh19LeeiSbEzBhqWFz6TcmiiYojq', 10000)"
     ],
     "language": "python",
     "metadata": {},
     "outputs": [
      {
       "metadata": {},
       "output_type": "pyout",
       "prompt_number": 13,
       "text": [
        "'{\"txid\":\"74b80d6ec6275e4125b99f24bab6b37d623f86ad471db630d56e9cc15bf4630c\"}'"
       ]
      }
     ],
     "prompt_number": 13
    },
    {
     "cell_type": "markdown",
     "metadata": {},
     "source": [
      "0 1\u662findex\uff0c\u8ddf\u9078\u64c7tx_input\u6709\u95dc"
     ]
    },
    {
     "cell_type": "code",
     "collapsed": false,
     "input": [],
     "language": "python",
     "metadata": {},
     "outputs": []
    }
   ],
   "metadata": {}
  }
 ]
}